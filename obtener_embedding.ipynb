{
 "cells": [
  {
   "cell_type": "markdown",
   "metadata": {},
   "source": [
    "# obtener embedding"
   ]
  },
  {
   "cell_type": "code",
   "execution_count": null,
   "metadata": {
    "collapsed": true,
    "jupyter": {
     "outputs_hidden": true
    }
   },
   "outputs": [],
   "source": [
    "import numpy as np\n",
    "from scipy import spatial\n",
    "import matplotlib.pyplot as plt\n",
    "import matplotlib.patches as mpatches\n",
    "from mpl_toolkits.mplot3d import Axes3D\n",
    "from sklearn import decomposition\n",
    "from sklearn.manifold import TSNE\n",
    "from gensim.models.keyedvectors import KeyedVectors"
   ]
  },
  {
   "cell_type": "code",
   "execution_count": null,
   "metadata": {
    "collapsed": true,
    "jupyter": {
     "outputs_hidden": true
    }
   },
   "outputs": [],
   "source": [
    "model = KeyedVectors.load_word2vec_format(\"/home/andres/proyectospy/untitled/pruebapubmed/archivosbin/wikipedia-pubmed-and-PMC-w2v.bin\", binary=True)"
   ]
  },
  {
   "cell_type": "code",
   "execution_count": 5,
   "metadata": {
    "collapsed": true,
    "jupyter": {
     "outputs_hidden": true
    }
   },
   "outputs": [],
   "source": [
    "palabras_positivas=[\"positivo\"]\n",
    "palabras_negativas=[\"negativas\"]"
   ]
  },
  {
   "cell_type": "code",
   "execution_count": 6,
   "metadata": {
    "collapsed": true,
    "jupyter": {
     "outputs_hidden": true
    }
   },
   "outputs": [],
   "source": [
    "\n",
    "label_p=np.load(\"/home/andres/proyectospy/sentiwordnet/palabras_sentiwordnet.npy\")\n",
    "label_n=np.load(\"/home/andres/proyectospy/demdrograma/salida/negativos.npy\")\n",
    "\n"
   ]
  },
  {
   "cell_type": "code",
   "execution_count": 7,
   "metadata": {},
   "outputs": [
    {
     "name": "stdout",
     "output_type": "stream",
     "text": [
      "buscando positivo\n"
     ]
    }
   ],
   "source": [
    "print(\"buscando positivo\")\n",
    "\n",
    "\n",
    "palabras_positivas=[\"positivo\"]\n",
    "palabras_negativas=[\"negativas\"]\n",
    "low_dim_embs_positivos= np.array([model['worst']])\n",
    "low_dim_embs_negativos=np.array([model['worst']])\n",
    "\n"
   ]
  },
  {
   "cell_type": "code",
   "execution_count": 8,
   "metadata": {},
   "outputs": [],
   "source": [
    "for word, val in  model.vocab.items():\n",
    "#   print(word)\n",
    "    if (word in label_p):\n",
    "\n",
    "#        print(\"la palabra es \", word, \"la posicion es \", i, \"el valor del label es \", archivo_positivos[i])\n",
    "\n",
    "        palabras_positivas.append(word)\n",
    "        var= model[word]\n",
    "        low_dim_embs_positivos = np.append(low_dim_embs_positivos, [var], axis=0)\n",
    "    else:\n",
    "        if (word in label_n):\n",
    "            palabras_negativas.append(word)\n",
    "            var = model[word]\n",
    "            low_dim_embs_negativos = np.append(low_dim_embs_negativos, [var], axis=0)\n",
    "\n",
    "\n"
   ]
  },
  {
   "cell_type": "code",
   "execution_count": 9,
   "metadata": {},
   "outputs": [
    {
     "name": "stdout",
     "output_type": "stream",
     "text": [
      "35\n",
      "['positivo', u'honorable', u'goodness', u'estimable', u'praise', u'legendary', u'preeminence', u'inspired', u'aesthetic', u'remedial', u'mum', u'superlative', u'curative', u'therapeutic', u'topping', u'reputable', u'top-flight', u'courtesy', u'alterative', u'incumbent', u'respected', u'attractive', u'kudos', u'keen', u'first-class', u'esthetic', u'superb', u'salutary', u'dedication', u'elegance', u'salubrious', u'artistic', u'congratulations', u'olympian', u'important']\n",
      "194\n",
      "['negativas', u'agonize', u'schlep', u'fusty', u'evil', u'harsh', u'moldiness', u'incumbrance', u'burnt', u'deviltry', u'cataclysmic', u'unsound', u'resent', u'malodourous', u'glumness', u'invalidism', u'trouble', u'anger', u'scurvy', u'unreliable', u'mummy', u'mongrel', u'convulsive', u'cataclysmal', u'homeless', u'blamable', u'burden', u'pernicious', u'improper', u'suffering', u'afflict', u'antisocial', u'muddy', u'burned', u'egregious', u'wretched', u'agonise', u'cross-grained', u'scummy', u'libellous', u'wonderfulness', u'censurable', u'culpable', u'ail', u'unauthorised', u'hideous', u'desensitize', u'burnt-out', u'distressing', u'fear', u'sadly', u'unlamented', u'blameable', u'vulnerability', u'worried', u'atrocious', u'upset', u'uncontrollable', u'contrarious', u'ungratified', u'throe', u'abduction', u'weakness', u'barren', u'unspeakable', u'roofless', u'incommode', u'depraved', u'avirulent', u'unauthorized', u'cruelness', u'distressed', u'filthy', u'scurrilous', u'golden', u'top-hole', u'ill', u'cacography', u'hobbledehoy', u'worrying', u'pitiful', u'desensitise', u'scrofulous', u'blameful', u'unmanageable', u'verminous', u'libelous', u'denigratory', u'devilry', u'regret', u'yobo', u'befouled', u'grim', u'shrew', u'disenchanted', u'hurt', u'unacceptable', u'curse', u'unsatisfied', u'helpless', u'well-thought-of', u'worrisome', u'horrid', u'moroseness', u'defamatory', u'fearfulness', u'scurrility', u'criminal', u'termagant', u'distressful', u'venom', u'wicked', u'burned-out', u'mustiness', u'dolour', u'spasmodic', u'restless', u'unpainted', u'troublesome', u'slap-up', u'flagrant', u'dreadful', u'horrific', u'burned-over', u'afflictive', u'bother', u'encumbrance', u'frigid', u'bluffness', u'abject', u'yobbo', u'monstrous', u'prick', u'grievous', u'unmingled', u'unfit', u'severe', u'malodorous', u'balmy', u'paranormal', u'cattiness', u'deplorable', u'spastic', u'slanderous', u'mild', u'ill-smelling', u'elysian', u'filigree', u'thorny', u'troubled', u'spiffing', u'snot-nosed', u'sore', u'invalidating', u'guilt', u'troubling', u'cheapjack', u'cretinous', u'fantabulous', u'blissfulness', u'preternatural', u'distress', u'bull', u'sanative', u'abominable', u'stink', u'sting', u'disport', u'frightful', u'painful', u'comfortless', u'inconvenience', u'excoriation', u'rubbishy', u'healthy', u'happiness', u'overexertion', u'ill-famed', u'self-torture', u'amicable', u'lenitive', u'malevolent', u'essentialness', u'gloomy', u'swingeing', u'unpleasant-smelling', u'miserable', u'untreated', u'terrible', u'vixenish', u'shenanigan', u'perverted', u'shlock', u'straits']\n",
      "34\n",
      "34\n",
      "[u'honorable', u'goodness', u'estimable', u'praise', u'legendary', u'preeminence', u'inspired', u'aesthetic', u'remedial', u'mum', u'superlative', u'curative', u'therapeutic', u'topping', u'reputable', u'top-flight', u'courtesy', u'alterative', u'incumbent', u'respected', u'attractive', u'kudos', u'keen', u'first-class', u'esthetic', u'superb', u'salutary', u'dedication', u'elegance', u'salubrious', u'artistic', u'congratulations', u'olympian', u'important']\n",
      "193\n",
      "193\n",
      "[u'agonize', u'schlep', u'fusty', u'evil', u'harsh', u'moldiness', u'incumbrance', u'burnt', u'deviltry', u'cataclysmic', u'unsound', u'resent', u'malodourous', u'glumness', u'invalidism', u'trouble', u'anger', u'scurvy', u'unreliable', u'mummy', u'mongrel', u'convulsive', u'cataclysmal', u'homeless', u'blamable', u'burden', u'pernicious', u'improper', u'suffering', u'afflict', u'antisocial', u'muddy', u'burned', u'egregious', u'wretched', u'agonise', u'cross-grained', u'scummy', u'libellous', u'wonderfulness', u'censurable', u'culpable', u'ail', u'unauthorised', u'hideous', u'desensitize', u'burnt-out', u'distressing', u'fear', u'sadly', u'unlamented', u'blameable', u'vulnerability', u'worried', u'atrocious', u'upset', u'uncontrollable', u'contrarious', u'ungratified', u'throe', u'abduction', u'weakness', u'barren', u'unspeakable', u'roofless', u'incommode', u'depraved', u'avirulent', u'unauthorized', u'cruelness', u'distressed', u'filthy', u'scurrilous', u'golden', u'top-hole', u'ill', u'cacography', u'hobbledehoy', u'worrying', u'pitiful', u'desensitise', u'scrofulous', u'blameful', u'unmanageable', u'verminous', u'libelous', u'denigratory', u'devilry', u'regret', u'yobo', u'befouled', u'grim', u'shrew', u'disenchanted', u'hurt', u'unacceptable', u'curse', u'unsatisfied', u'helpless', u'well-thought-of', u'worrisome', u'horrid', u'moroseness', u'defamatory', u'fearfulness', u'scurrility', u'criminal', u'termagant', u'distressful', u'venom', u'wicked', u'burned-out', u'mustiness', u'dolour', u'spasmodic', u'restless', u'unpainted', u'troublesome', u'slap-up', u'flagrant', u'dreadful', u'horrific', u'burned-over', u'afflictive', u'bother', u'encumbrance', u'frigid', u'bluffness', u'abject', u'yobbo', u'monstrous', u'prick', u'grievous', u'unmingled', u'unfit', u'severe', u'malodorous', u'balmy', u'paranormal', u'cattiness', u'deplorable', u'spastic', u'slanderous', u'mild', u'ill-smelling', u'elysian', u'filigree', u'thorny', u'troubled', u'spiffing', u'snot-nosed', u'sore', u'invalidating', u'guilt', u'troubling', u'cheapjack', u'cretinous', u'fantabulous', u'blissfulness', u'preternatural', u'distress', u'bull', u'sanative', u'abominable', u'stink', u'sting', u'disport', u'frightful', u'painful', u'comfortless', u'inconvenience', u'excoriation', u'rubbishy', u'healthy', u'happiness', u'overexertion', u'ill-famed', u'self-torture', u'amicable', u'lenitive', u'malevolent', u'essentialness', u'gloomy', u'swingeing', u'unpleasant-smelling', u'miserable', u'untreated', u'terrible', u'vixenish', u'shenanigan', u'perverted', u'shlock', u'straits']\n"
     ]
    }
   ],
   "source": [
    "print (len(low_dim_embs_positivos))\n",
    "print (palabras_positivas)\n",
    "\n",
    "\n",
    "print (len(low_dim_embs_negativos))\n",
    "print (palabras_negativas)\n",
    "\n",
    "low_dim_embs_positivos = np.delete(low_dim_embs_positivos, (0), axis=0)\n",
    "palabras_positivas=  palabras_positivas[1:]\n",
    "print (len(low_dim_embs_positivos))\n",
    "print (len(palabras_positivas))\n",
    "print (palabras_positivas)\n",
    "\n",
    "\n",
    "low_dim_embs_negativos = np.delete(low_dim_embs_negativos, (0), axis=0)\n",
    "palabras_negativas=  palabras_negativas[1:]\n",
    "print (len(low_dim_embs_negativos))\n",
    "print (len(palabras_negativas))\n",
    "print (palabras_negativas)"
   ]
  },
  {
   "cell_type": "code",
   "execution_count": 10,
   "metadata": {
    "collapsed": true,
    "jupyter": {
     "outputs_hidden": true
    }
   },
   "outputs": [],
   "source": [
    "np.save(\"salida/palabras_positivas_pubmedv2.npy\", palabras_positivas)\n",
    "np.save(\"salida/low_dim_embs_positivosv2.npy\", low_dim_embs_positivos)\n",
    "\n",
    "np.save(\"salida/palabras_negativos_pubmedv2.npy\", palabras_negativas)\n",
    "np.save(\"salida/low_dim_embs_negativosv2.npy\", low_dim_embs_negativos)"
   ]
  },
  {
   "cell_type": "code",
   "execution_count": null,
   "metadata": {
    "collapsed": true,
    "jupyter": {
     "outputs_hidden": true
    }
   },
   "outputs": [],
   "source": []
  }
 ],
 "metadata": {
  "kernelspec": {
   "display_name": "Python 3",
   "language": "python",
   "name": "python3"
  },
  "language_info": {
   "codemirror_mode": {
    "name": "ipython",
    "version": 3
   },
   "file_extension": ".py",
   "mimetype": "text/x-python",
   "name": "python",
   "nbconvert_exporter": "python",
   "pygments_lexer": "ipython3",
   "version": "3.6.7"
  }
 },
 "nbformat": 4,
 "nbformat_minor": 4
}
